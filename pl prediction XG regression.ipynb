{
 "cells": [
  {
   "cell_type": "code",
   "execution_count": 3,
   "id": "5f1051de",
   "metadata": {},
   "outputs": [],
   "source": [
    "import pandas as pd\n",
    "\n",
    "# Load each season's file\n",
    "df_2020 = pd.read_csv(\"C:/Users/ADMIN/Downloads/PL season 2021.csv\")\n",
    "df_2021 = pd.read_csv(\"C:/Users/ADMIN/Downloads/Pl Season 2122.csv\")\n",
    "df_2022 = pd.read_csv(\"C:/Users/ADMIN/Downloads/PL Season 2223.csv\")\n",
    "df_2023 = pd.read_csv(\"C:/Users/ADMIN/Downloads/PL Season 2324.csv\")\n",
    "df_2024 = pd.read_csv(\"C:/Users/ADMIN/Downloads/PL Season 2425.csv\")\n",
    "df_2025 = pd.read_csv(\"C:/Users/ADMIN/Downloads/PL Season 2526.csv\")\n",
    "\n",
    "# Add Season column to each\n",
    "df_2021['Season'] = 2021\n",
    "df_2022['Season'] = 2022\n",
    "df_2023['Season'] = 2023\n",
    "df_2024['Season'] = 2024\n",
    "df_2025['Season'] = 2025"
   ]
  },
  {
   "cell_type": "code",
   "execution_count": 4,
   "id": "5cf25a01",
   "metadata": {},
   "outputs": [
    {
     "name": "stdout",
     "output_type": "stream",
     "text": [
      "  Div        Date   Time    HomeTeam        AwayTeam  FTHG  FTAG FTR  HTHG  \\\n",
      "0  E0  13/08/2021  20:00   Brentford         Arsenal     2     0   H     1   \n",
      "1  E0  14/08/2021  12:30  Man United           Leeds     5     1   H     1   \n",
      "2  E0  14/08/2021  15:00     Burnley        Brighton     1     2   A     1   \n",
      "3  E0  14/08/2021  15:00     Chelsea  Crystal Palace     3     0   H     2   \n",
      "4  E0  14/08/2021  15:00     Everton     Southampton     3     1   H     0   \n",
      "\n",
      "   HTAG  ... BMGMCA BVCH  BVCD  BVCA  CLCH  CLCD  CLCA  LBCH  LBCD  LBCA  \n",
      "0     0  ...    NaN  NaN   NaN   NaN   NaN   NaN   NaN   NaN   NaN   NaN  \n",
      "1     0  ...    NaN  NaN   NaN   NaN   NaN   NaN   NaN   NaN   NaN   NaN  \n",
      "2     0  ...    NaN  NaN   NaN   NaN   NaN   NaN   NaN   NaN   NaN   NaN  \n",
      "3     0  ...    NaN  NaN   NaN   NaN   NaN   NaN   NaN   NaN   NaN   NaN  \n",
      "4     1  ...    NaN  NaN   NaN   NaN   NaN   NaN   NaN   NaN   NaN   NaN  \n",
      "\n",
      "[5 rows x 163 columns]\n",
      "Season\n",
      "2021    380\n",
      "2022    380\n",
      "2023    380\n",
      "2024    380\n",
      "2025     60\n",
      "Name: count, dtype: int64\n"
     ]
    }
   ],
   "source": [
    "# Merge all into one DataFrame\n",
    "df_combined = pd.concat([df_2021, df_2022, df_2023, df_2024, df_2025], ignore_index=True)\n",
    "\n",
    "# Preview\n",
    "print(df_combined.head())\n",
    "print(df_combined['Season'].value_counts())"
   ]
  },
  {
   "cell_type": "code",
   "execution_count": 11,
   "id": "6be14a9b",
   "metadata": {},
   "outputs": [
    {
     "name": "stdout",
     "output_type": "stream",
     "text": [
      "<class 'pandas.core.frame.DataFrame'>\n",
      "RangeIndex: 1580 entries, 0 to 1579\n",
      "Columns: 163 entries, Div to LBCA\n",
      "dtypes: float64(138), int64(17), object(8)\n",
      "memory usage: 2.0+ MB\n",
      "None\n"
     ]
    }
   ],
   "source": [
    "# Check basic info\n",
    "print(df_combined.info())"
   ]
  },
  {
   "cell_type": "code",
   "execution_count": 52,
   "id": "7c46d791",
   "metadata": {},
   "outputs": [
    {
     "name": "stdout",
     "output_type": "stream",
     "text": [
      "Full Time Home Goals – goals scored by the home team\n"
     ]
    }
   ],
   "source": [
    "# Dictionary mapping column names to full meanings\n",
    "column_meanings = {\n",
    "    'HomeTeam': 'Team playing at their home stadium',\n",
    "    'AwayTeam': 'Team playing away from home',\n",
    "    'Team': 'Generic team label—can refer to either HomeTeam or AwayTeam depending on context',\n",
    "    'FTHG': 'Full Time Home Goals – goals scored by the home team',\n",
    "    'FTAG': 'Full Time Away Goals – goals scored by the away team',\n",
    "    'FTR': 'Full Time Result – H = Home Win, D = Draw, A = Away Win',\n",
    "    'Date': 'Date of the match',\n",
    "    'Venue': 'Stadium where the match was played',\n",
    "    'Referee': 'Match official',\n",
    "    'xG': 'Expected Goals – probability-based scoring metric',\n",
    "    'Attendance': 'Number of spectators at the match',\n",
    "    'Points': 'Total points earned by the team in the season',\n",
    "    'GoalDifference': 'Goals scored minus goals conceded',\n",
    "    'WinProbability': 'Model-estimated probability of winning the league'\n",
    "}\n",
    "\n",
    "# Example: print full meaning of a column\n",
    "print(column_meanings['FTHG'])"
   ]
  },
  {
   "cell_type": "code",
   "execution_count": 13,
   "id": "c7bd68fa",
   "metadata": {},
   "outputs": [
    {
     "name": "stdout",
     "output_type": "stream",
     "text": [
      "['Div', 'Date', 'Time', 'HomeTeam', 'AwayTeam', 'FTHG', 'FTAG', 'FTR', 'HTHG', 'HTAG', 'HTR', 'Referee', 'HS', 'AS', 'HST', 'AST', 'HF', 'AF', 'HC', 'AC', 'HY', 'AY', 'HR', 'AR', 'B365H', 'B365D', 'B365A', 'BWH', 'BWD', 'BWA', 'IWH', 'IWD', 'IWA', 'PSH', 'PSD', 'PSA', 'WHH', 'WHD', 'WHA', 'VCH', 'VCD', 'VCA', 'MaxH', 'MaxD', 'MaxA', 'AvgH', 'AvgD', 'AvgA', 'B365>2.5', 'B365<2.5', 'P>2.5', 'P<2.5', 'Max>2.5', 'Max<2.5', 'Avg>2.5', 'Avg<2.5', 'AHh', 'B365AHH', 'B365AHA', 'PAHH', 'PAHA', 'MaxAHH', 'MaxAHA', 'AvgAHH', 'AvgAHA', 'B365CH', 'B365CD', 'B365CA', 'BWCH', 'BWCD', 'BWCA', 'IWCH', 'IWCD', 'IWCA', 'PSCH', 'PSCD', 'PSCA', 'WHCH', 'WHCD', 'WHCA', 'VCCH', 'VCCD', 'VCCA', 'MaxCH', 'MaxCD', 'MaxCA', 'AvgCH', 'AvgCD', 'AvgCA', 'B365C>2.5', 'B365C<2.5', 'PC>2.5', 'PC<2.5', 'MaxC>2.5', 'MaxC<2.5', 'AvgC>2.5', 'AvgC<2.5', 'AHCh', 'B365CAHH', 'B365CAHA', 'PCAHH', 'PCAHA', 'MaxCAHH', 'MaxCAHA', 'AvgCAHH', 'AvgCAHA', 'Season', 'BFH', 'BFD', 'BFA', '1XBH', '1XBD', '1XBA', 'BFEH', 'BFED', 'BFEA', 'BFE>2.5', 'BFE<2.5', 'BFEAHH', 'BFEAHA', 'BFCH', 'BFCD', 'BFCA', '1XBCH', '1XBCD', '1XBCA', 'BFECH', 'BFECD', 'BFECA', 'BFEC>2.5', 'BFEC<2.5', 'BFECAHH', 'BFECAHA', 'BFDH', 'BFDD', 'BFDA', 'BMGMH', 'BMGMD', 'BMGMA', 'BVH', 'BVD', 'BVA', 'CLH', 'CLD', 'CLA', 'LBH', 'LBD', 'LBA', 'BFDCH', 'BFDCD', 'BFDCA', 'BMGMCH', 'BMGMCD', 'BMGMCA', 'BVCH', 'BVCD', 'BVCA', 'CLCH', 'CLCD', 'CLCA', 'LBCH', 'LBCD', 'LBCA']\n"
     ]
    }
   ],
   "source": [
    "print(df_combined.columns.tolist())"
   ]
  },
  {
   "cell_type": "code",
   "execution_count": 53,
   "id": "0674847d",
   "metadata": {},
   "outputs": [
    {
     "name": "stdout",
     "output_type": "stream",
     "text": [
      "Div               0\n",
      "Date              0\n",
      "Time              0\n",
      "HomeTeam          0\n",
      "AwayTeam          0\n",
      "                 ..\n",
      "Points            0\n",
      "GoalDifference    0\n",
      "GoalsFor          0\n",
      "GoalsAgainst      0\n",
      "Winner            0\n",
      "Length: 158, dtype: int64\n"
     ]
    }
   ],
   "source": [
    "print(df_combined.isnull().sum())"
   ]
  },
  {
   "cell_type": "code",
   "execution_count": 24,
   "id": "bdb1c749",
   "metadata": {},
   "outputs": [],
   "source": [
    "# Drop columns only if they exist in the DataFrame\n",
    "columns_to_drop = ['CLCD', 'CLCA', 'LBCH', 'LBCD', 'LBCA' , 'BMGMCA', 'BVCH', 'BVCD', 'BVCA', 'CLCH', ]\n",
    "df_combined.drop(columns=[col for col in columns_to_drop if col in df_combined.columns], inplace=True)"
   ]
  },
  {
   "cell_type": "code",
   "execution_count": 26,
   "id": "72f3e222",
   "metadata": {},
   "outputs": [
    {
     "name": "stdout",
     "output_type": "stream",
     "text": [
      "<class 'pandas.core.frame.DataFrame'>\n",
      "RangeIndex: 1580 entries, 0 to 1579\n",
      "Columns: 153 entries, Div to BMGMCD\n",
      "dtypes: float64(128), int64(17), object(8)\n",
      "memory usage: 1.8+ MB\n",
      "None\n",
      "Div            0\n",
      "Date           0\n",
      "Time           0\n",
      "HomeTeam       0\n",
      "AwayTeam       0\n",
      "            ... \n",
      "BFDCH       1520\n",
      "BFDCD       1520\n",
      "BFDCA       1520\n",
      "BMGMCH      1520\n",
      "BMGMCD      1520\n",
      "Length: 153, dtype: int64\n"
     ]
    }
   ],
   "source": [
    "# Recheck info after dropping columns\n",
    "print(df_combined.info())\n",
    "print(df_combined.isnull().sum())"
   ]
  },
  {
   "cell_type": "code",
   "execution_count": 28,
   "id": "337cf309",
   "metadata": {},
   "outputs": [
    {
     "name": "stdout",
     "output_type": "stream",
     "text": [
      "              FTHG         FTAG         HTHG         HTAG           HS  \\\n",
      "count  1580.000000  1580.000000  1580.000000  1580.000000  1580.000000   \n",
      "mean      1.609494     1.348101     0.728481     0.591772    14.172785   \n",
      "std       1.348669     1.228886     0.860254     0.800448     5.791492   \n",
      "min       0.000000     0.000000     0.000000     0.000000     1.000000   \n",
      "25%       1.000000     0.000000     0.000000     0.000000    10.000000   \n",
      "50%       1.000000     1.000000     1.000000     0.000000    14.000000   \n",
      "75%       2.000000     2.000000     1.000000     1.000000    18.000000   \n",
      "max       9.000000     8.000000     5.000000     5.000000    36.000000   \n",
      "\n",
      "                AS          HST          AST           HF           AF  ...  \\\n",
      "count  1580.000000  1580.000000  1580.000000  1580.000000  1580.000000  ...   \n",
      "mean     11.809494     4.936709     4.148101    10.558861    10.937342  ...   \n",
      "std       5.280939     2.614287     2.416607     3.461681     3.607992  ...   \n",
      "min       1.000000     0.000000     0.000000     1.000000     1.000000  ...   \n",
      "25%       8.000000     3.000000     2.000000     8.000000     8.000000  ...   \n",
      "50%      11.000000     5.000000     4.000000    10.000000    11.000000  ...   \n",
      "75%      15.000000     6.000000     5.000000    13.000000    13.000000  ...   \n",
      "max      37.000000    16.000000    15.000000    23.000000    25.000000  ...   \n",
      "\n",
      "             CLD        CLA        LBH        LBD        LBA      BFDCH  \\\n",
      "count  60.000000  60.000000  60.000000  60.000000  60.000000  60.000000   \n",
      "mean    3.905000   3.876667   2.540167   3.857500   3.819500   2.665667   \n",
      "std     0.799507   2.433809   1.203881   0.804533   2.394598   1.336116   \n",
      "min     3.200000   1.330000   1.170000   3.100000   1.330000   1.200000   \n",
      "25%     3.400000   2.200000   1.730000   3.400000   2.187500   1.782500   \n",
      "50%     3.600000   3.000000   2.300000   3.600000   2.950000   2.390000   \n",
      "75%     4.000000   4.575000   3.125000   3.925000   4.500000   3.400000   \n",
      "max     7.500000  15.000000   8.000000   7.500000  15.000000   9.000000   \n",
      "\n",
      "           BFDCD      BFDCA     BMGMCH     BMGMCD  \n",
      "count  60.000000  60.000000  60.000000  60.000000  \n",
      "mean    3.837333   3.978833   2.655833   3.879167  \n",
      "std     0.748723   2.524444   1.307806   0.812002  \n",
      "min     2.880000   1.330000   1.180000   3.100000  \n",
      "25%     3.400000   2.287500   1.752500   3.400000  \n",
      "50%     3.600000   3.175000   2.355000   3.675000  \n",
      "75%     4.000000   4.700000   3.350000   3.950000  \n",
      "max     7.000000  15.000000   9.000000   7.500000  \n",
      "\n",
      "[8 rows x 145 columns]\n"
     ]
    }
   ],
   "source": [
    "# Summary statistics\n",
    "print(df_combined.describe())"
   ]
  },
  {
   "cell_type": "code",
   "execution_count": null,
   "id": "c6b29cd7",
   "metadata": {},
   "outputs": [],
   "source": [
    "import pandas as pd\n",
    "from xgboost import XGBRegressor\n",
    "from sklearn.model_selection import train_test_split\n",
    "from sklearn.metrics import accuracy_score\n",
    "\n",
    "\n"
   ]
  },
  {
   "cell_type": "code",
   "execution_count": null,
   "id": "b79c6508",
   "metadata": {},
   "outputs": [
    {
     "name": "stdout",
     "output_type": "stream",
     "text": [
      "                GoalsFor  GoalsAgainst  Points  PredictedPoints\n",
      "Liverpool             12             7      15        78.403221\n",
      "Arsenal               12             3      13        76.219711\n",
      "Crystal Palace         8             3      12        76.135651\n",
      "Tottenham             11             4      11        69.379486\n",
      "Sunderland             7             4      11        69.338852\n",
      "Bournemouth            8             7      11        68.986984\n",
      "Man City              14             6      10        67.552681\n",
      "Everton                7             6       8        49.020428\n",
      "Chelsea               11             8       8        49.008194\n",
      "Brighton               9             9       8        49.000549\n",
      "Leeds                  6             9       8        48.999805\n",
      "Fulham                 7             8       8        48.999805\n",
      "Brentford              9            11       7        43.973530\n",
      "Man United             7            11       7        43.972786\n",
      "Aston Villa            4             6       6        38.004173\n",
      "Newcastle              4             5       6        38.004173\n",
      "Nott'm Forest          5            10       5        33.367481\n",
      "Burnley                6            13       4        25.002180\n",
      "West Ham               6            14       4        22.136509\n",
      "Wolves                 4            13       1        21.016342\n"
     ]
    }
   ],
   "source": [
    "\n",
    "# Label each season\n",
    "df_2021['Season'] = 2021\n",
    "df_2022['Season'] = 2022\n",
    "df_2023['Season'] = 2023\n",
    "df_2024['Season'] = 2024\n",
    "df_2025['Season'] = 2025  # Ongoing 2025/2026 season\n",
    "\n",
    "# Aggregation function for team-level stats\n",
    "def aggregate_team_stats(df):\n",
    "    # Goals scored\n",
    "    home_goals = df.groupby('HomeTeam')['FTHG'].sum()\n",
    "    away_goals = df.groupby('AwayTeam')['FTAG'].sum()\n",
    "    goals_for = home_goals.add(away_goals, fill_value=0)\n",
    "\n",
    "    # Goals conceded\n",
    "    home_conceded = df.groupby('HomeTeam')['FTAG'].sum()\n",
    "    away_conceded = df.groupby('AwayTeam')['FTHG'].sum()\n",
    "    goals_against = home_conceded.add(away_conceded, fill_value=0)\n",
    "\n",
    "    # Match result\n",
    "    df['FTR'] = df.apply(lambda row: 'H' if row['FTHG'] > row['FTAG'] else ('A' if row['FTHG'] < row['FTAG'] else 'D'), axis=1)\n",
    "\n",
    "    # Points\n",
    "    df['HomePoints'] = df['FTR'].apply(lambda x: 3 if x == 'H' else (1 if x == 'D' else 0))\n",
    "    df['AwayPoints'] = df['FTR'].apply(lambda x: 3 if x == 'A' else (1 if x == 'D' else 0))\n",
    "    home_points = df.groupby('HomeTeam')['HomePoints'].sum()\n",
    "    away_points = df.groupby('AwayTeam')['AwayPoints'].sum()\n",
    "    points = home_points.add(away_points, fill_value=0)\n",
    "\n",
    "    # Matches played\n",
    "    home_matches = df['HomeTeam'].value_counts()\n",
    "    away_matches = df['AwayTeam'].value_counts()\n",
    "    matches_played = home_matches.add(away_matches, fill_value=0)\n",
    "\n",
    "    # Combine stats\n",
    "    team_stats = pd.DataFrame({\n",
    "        'GoalsFor': goals_for,\n",
    "        'GoalsAgainst': goals_against,\n",
    "        'Points': points,\n",
    "        'MatchesPlayed': matches_played\n",
    "    })\n",
    "\n",
    "    # Feature engineering\n",
    "    team_stats['AvgGoalsFor'] = team_stats['GoalsFor'] / team_stats['MatchesPlayed']\n",
    "    team_stats['AvgGoalsAgainst'] = team_stats['GoalsAgainst'] / team_stats['MatchesPlayed']\n",
    "    team_stats['WinRate'] = team_stats['Points'] / (team_stats['MatchesPlayed'] * 3)\n",
    "\n",
    "    return team_stats\n",
    "\n",
    "#Aggregate each season separately\n",
    "def prepare_season_stats(df_season, season_year):\n",
    "    stats = aggregate_team_stats(df_season)\n",
    "    stats['Season'] = season_year\n",
    "    return stats\n",
    "\n",
    "train_seasons = [df_2021, df_2022, df_2023, df_2024]\n",
    "train_years = [2021, 2022, 2023, 2024]\n",
    "\n",
    "season_stats_list = [prepare_season_stats(df, year) for df, year in zip(train_seasons, train_years)]\n",
    "team_stats_train = pd.concat(season_stats_list, ignore_index=True)\n",
    "\n",
    "# Step 4: Train regression model\n",
    "features = ['AvgGoalsFor', 'AvgGoalsAgainst', 'WinRate']\n",
    "X_train = team_stats_train[features]\n",
    "y_train = team_stats_train['Points']\n",
    "\n",
    "model = XGBRegressor(n_estimators=100, max_depth=4, learning_rate=0.1, random_state=42)\n",
    "model.fit(X_train, y_train)\n",
    "\n",
    "# Step 5: Predict for 2025/2026\n",
    "team_stats_2025 = aggregate_team_stats(df_2025)\n",
    "X_new = team_stats_2025[features]\n",
    "team_stats_2025['PredictedPoints'] = model.predict(X_new)\n",
    "\n",
    "# Step 6: Rank teams\n",
    "result = team_stats_2025[['GoalsFor', 'GoalsAgainst', 'Points', 'PredictedPoints']]\n",
    "result = result.sort_values(by='PredictedPoints', ascending=False)\n",
    "print(result)"
   ]
  },
  {
   "cell_type": "code",
   "execution_count": 95,
   "id": "a345dd51",
   "metadata": {},
   "outputs": [
    {
     "name": "stdout",
     "output_type": "stream",
     "text": [
      "                Points  PredictedPoints\n",
      "Arsenal             74        73.975380\n",
      "Aston Villa         66        65.989647\n",
      "Bournemouth         56        55.997887\n",
      "Brentford           56        55.999001\n",
      "Brighton            61        60.996433\n",
      "Chelsea             69        68.989502\n",
      "Crystal Palace      53        52.998783\n",
      "Everton             48        48.000134\n",
      "Fulham              54        53.999805\n",
      "Ipswich             22        22.021776\n",
      "Leicester           25        24.998951\n",
      "Liverpool           84        83.994980\n",
      "Man City            71        70.991409\n",
      "Man United          42        41.999599\n",
      "Newcastle           66        65.993736\n",
      "Nott'm Forest       65        64.998215\n",
      "Southampton         12        12.207199\n",
      "Tottenham           38        38.004616\n",
      "West Ham            43        43.003777\n",
      "Wolves              42        42.000343\n"
     ]
    }
   ],
   "source": [
    "# Predict for 2024\n",
    "team_stats_2024 = aggregate_team_stats(df_2024)\n",
    "X_2024 = team_stats_2024[features]\n",
    "team_stats_2024['PredictedPoints'] = model.predict(X_2024)\n",
    "\n",
    "# Compare predicted vs actual\n",
    "comparison = team_stats_2024[['Points', 'PredictedPoints']]\n",
    "print(comparison)"
   ]
  },
  {
   "cell_type": "code",
   "execution_count": 96,
   "id": "8488bc44",
   "metadata": {},
   "outputs": [
    {
     "name": "stdout",
     "output_type": "stream",
     "text": [
      "MAE: 0.02, R² Score: 1.00\n"
     ]
    }
   ],
   "source": [
    "from sklearn.metrics import mean_absolute_error, r2_score\n",
    "\n",
    "mae = mean_absolute_error(comparison['Points'], comparison['PredictedPoints'])\n",
    "r2 = r2_score(comparison['Points'], comparison['PredictedPoints'])\n",
    "\n",
    "print(f\"MAE: {mae:.2f}, R² Score: {r2:.2f}\")"
   ]
  },
  {
   "cell_type": "code",
   "execution_count": 97,
   "id": "ae6e8938",
   "metadata": {},
   "outputs": [
    {
     "name": "stdout",
     "output_type": "stream",
     "text": [
      "                Points  PredictedPoints  Residual\n",
      "Southampton         12        12.207199 -0.207199\n",
      "Ipswich             22        22.021776 -0.021776\n",
      "Tottenham           38        38.004616 -0.004616\n",
      "West Ham            43        43.003777 -0.003777\n",
      "Wolves              42        42.000343 -0.000343\n",
      "Everton             48        48.000134 -0.000134\n",
      "Fulham              54        53.999805  0.000195\n",
      "Man United          42        41.999599  0.000401\n",
      "Brentford           56        55.999001  0.000999\n",
      "Leicester           25        24.998951  0.001049\n",
      "Crystal Palace      53        52.998783  0.001217\n",
      "Nott'm Forest       65        64.998215  0.001785\n",
      "Bournemouth         56        55.997887  0.002113\n",
      "Brighton            61        60.996433  0.003567\n",
      "Liverpool           84        83.994980  0.005020\n",
      "Newcastle           66        65.993736  0.006264\n",
      "Man City            71        70.991409  0.008591\n",
      "Aston Villa         66        65.989647  0.010353\n",
      "Chelsea             69        68.989502  0.010498\n",
      "Arsenal             74        73.975380  0.024620\n"
     ]
    },
    {
     "name": "stderr",
     "output_type": "stream",
     "text": [
      "C:\\Users\\ADMIN\\AppData\\Local\\Temp\\ipykernel_6480\\1132429858.py:1: SettingWithCopyWarning: \n",
      "A value is trying to be set on a copy of a slice from a DataFrame.\n",
      "Try using .loc[row_indexer,col_indexer] = value instead\n",
      "\n",
      "See the caveats in the documentation: https://pandas.pydata.org/pandas-docs/stable/user_guide/indexing.html#returning-a-view-versus-a-copy\n",
      "  comparison['Residual'] = comparison['Points'] - comparison['PredictedPoints']\n"
     ]
    }
   ],
   "source": [
    "comparison['Residual'] = comparison['Points'] - comparison['PredictedPoints']\n",
    "print(comparison.sort_values(by='Residual'))"
   ]
  },
  {
   "cell_type": "code",
   "execution_count": 98,
   "id": "705a2f24",
   "metadata": {},
   "outputs": [
    {
     "data": {
      "image/png": "[encoded data removed]",
      "text/plain": [
       "<Figure size 640x480 with 1 Axes>"
      ]
     },
     "metadata": {},
     "output_type": "display_data"
    }
   ],
   "source": [
    "import matplotlib.pyplot as plt\n",
    "\n",
    "XGBRegressor().fit(X_train, y_train)\n",
    "model.feature_importances_\n",
    "plt.bar(features, model.feature_importances_)\n",
    "plt.title(\"Feature Importance\")\n",
    "plt.show()"
   ]
  }
 ],
 "metadata": {
  "kernelspec": {
   "display_name": "Python 3",
   "language": "python",
   "name": "python3"
  },
  "language_info": {
   "codemirror_mode": {
    "name": "ipython",
    "version": 3
   },
   "file_extension": ".py",
   "mimetype": "text/x-python",
   "name": "python",
   "nbconvert_exporter": "python",
   "pygments_lexer": "ipython3",
   "version": "3.12.3"
  }
 },
 "nbformat": 4,
 "nbformat_minor": 5
}
